{
 "cells": [
  {
   "cell_type": "code",
   "execution_count": 29,
   "metadata": {},
   "outputs": [],
   "source": [
    "import gensim, operator\n",
    "from scipy import spatial\n",
    "import numpy as np\n",
    "from gensim.models import KeyedVectors\n",
    "\n",
    "model_path = 'C:/Users/hshah/OneDrive - Paycor, Inc/Documents/Anly 610/'"
   ]
  },
  {
   "cell_type": "code",
   "execution_count": 30,
   "metadata": {},
   "outputs": [
    {
     "name": "stdout",
     "output_type": "stream",
     "text": [
      "Loading Word2Vec model...\n",
      "Finished loading Word2Vec model...\n"
     ]
    }
   ],
   "source": [
    "def load_wordvec_model(modelName, modelFile, flagBin):\n",
    "    print('Loading ' + modelName + ' model...')\n",
    "    model = KeyedVectors.load_word2vec_format(model_path + modelFile, binary=flagBin)\n",
    "    print('Finished loading ' + modelName + ' model...')\n",
    "    return model\n",
    "\n",
    "model_word2vec = load_wordvec_model('Word2Vec', 'GoogleNews-vectors-negative300.bin.gz', True)"
   ]
  },
  {
   "cell_type": "code",
   "execution_count": 39,
   "metadata": {},
   "outputs": [],
   "source": [
    "# function checks whether the input words are present in the vocabulary for the model\n",
    "def vocab_check(vectors, words):\n",
    "    \n",
    "    output = list()\n",
    "    for word in words:\n",
    "        if word in vectors.vocab:\n",
    "            output.append(word.strip())\n",
    "            \n",
    "    return output"
   ]
  },
  {
   "cell_type": "code",
   "execution_count": 95,
   "metadata": {},
   "outputs": [],
   "source": [
    "# function calculates similarity between two strings using a particular word vector model\n",
    "def calc_similarity(input1, input2, vectors):\n",
    "    s1words = set(vocab_check(vectors, input1.split()))\n",
    "    s2words = set(vocab_check(vectors, input2.split()))\n",
    "    if (len(s1words) and len(s2words)):\n",
    "        output = vectors.n_similarity(s1words, s2words)\n",
    "        return output"
   ]
  },
  {
   "cell_type": "code",
   "execution_count": 175,
   "metadata": {},
   "outputs": [
    {
     "name": "stdout",
     "output_type": "stream",
     "text": [
      "('Apple to call new 2020 low-cost iPhone the “iPhone SE”, imminent launch expected', 0.84281445)\n",
      "('Apple is expected to launch a new low-end iPhone with TouchID on 5 April', 0.8419073)\n",
      "('Will Apple launch iPhone 12 in September?', 0.83506274)\n",
      "('Apple iPhone 9 likely to launch in a matter of days', 0.8306169)\n",
      "('Apple still on track to launch 5G-based Apple iPhone', 0.82254475)\n",
      "('Apple still on track to launch 5G-based Apple iPhone', 0.82254475)\n",
      "('Apple shouldn’t release a new iPhone this year', 0.81999236)\n",
      "('Apple shouldn’t release a new iPhone this year', 0.81999236)\n",
      "('iPhone SE 2 release: Why this new Apple smartphone could launch imminently', 0.81902146)\n",
      "('Apple plans to deliver new iPhone 12 in autumn', 0.81507707)\n",
      "('Apple may introduce iPhone 9 this week', 0.8138528)\n",
      "('Apple may introduce iPhone 9 this week', 0.8138528)\n",
      "('Apple might launch iPhone 9 on April 15', 0.81109655)\n",
      "('Apple might launch iPhone 9 on April 15', 0.81109655)\n",
      "('Apple might launch iPhone 9 on April 15', 0.81109655)\n",
      "('Apple may be about to launch a new, cheap iPhone SE,', 0.81059194)\n",
      "('Apple could launch iPhone SE 2020 later today', 0.80221015)\n",
      "('Apple could launch iPhone SE 2020 later today', 0.80221015)\n",
      "('Apple Inc. (NASDAQ:AAPL) iPhone 9 might launch as soon as this week', 0.80184263)\n",
      "('Apple iPhone 9 tipped to launch on this date', 0.8013718)\n",
      "('Apple might be planning to launch new HomePod, iMac, and iPads', 0.8007597)\n",
      "('Apple might be planning to launch new HomePod, iMac, and iPads', 0.8007597)\n",
      "('Apple might be planning to launch new HomePod, iMac, and iPads', 0.8007597)\n",
      "('Bgr | It looks like Apple is about to launch the iPhone 9', 0.7975373)\n",
      "('It looks like Apple is about to launch the iPhone 9', 0.7975373)\n",
      "('It looks like Apple is about to launch the iPhone 9', 0.7975373)\n",
      "('It looks like Apple is about to launch the iPhone 9', 0.7975373)\n",
      "('Foxconn assures investors Apple iPhone 12 can still launch this fall', 0.79353833)\n",
      "(\"Apple shouldn't release a new iPhone this year\", 0.7932575)\n",
      "('Not iPhone 9 or iPhone SE 2, Apple accidentally confirms next budget iPhone - IBTimes India', 0.78786325)\n",
      "('Apple iPhone 9 set to launch on April 15th', 0.7873086)\n",
      "('iPhone 12 to launch according to plan, yet future Apple items could be postponed: Report', 0.78624505)\n",
      "('Apple may introduce iPhone 9 very soon', 0.7850909)\n",
      "('Apple iPhone 9 launching April 15, new rumor says', 0.7837815)\n",
      "('New rumour suggests that Apple could launch iPhone 9 on 15 April 2020', 0.78162456)\n",
      "('Bgr | iPhone 12 will release this fall, but future Apple products may be delayed', 0.77890813)\n",
      "('iPhone 12 will release this fall, but future Apple products may be delayed', 0.77890813)\n",
      "('Foxconn suggests Apple may still launch 2020 iPhone models on time', 0.77704453)\n",
      "('Foxconn suggests Apple may still launch 2020 iPhone models on time', 0.77704453)\n",
      "('Apple may be about to launch a new, cheap iPhone SE', 0.77681416)\n",
      "('Apple may be about to launch a new, cheap iPhone SE', 0.77681416)\n",
      "('Apple will reportedly unveil the iPhone 9 on April 15th', 0.7737237)\n",
      "('Apple aiming to launch iPhone 9 in April, according to Jon Prosser', 0.7695998)\n",
      "('Apple aiming to launch iPhone 9 in April, according to Jon Prosser', 0.7695998)\n",
      "('Apple releases iMovie 2.2.9 for iPad and iPhone', 0.7680244)\n",
      "('Apple iPhone SE 2 launch date, specs and price revealed ahead of official release', 0.7678977)\n",
      "('Apple planning to launch new HomePod, iMac, and cheaper iPads in 2020 – BGR', 0.7676073)\n",
      "('Apple announces price hike for several iPhone models', 0.76538086)\n",
      "('Apple rumoured to unveil the iPhone 9 in mid April', 0.7649985)\n",
      "('Apple may also lauch new HomePod, iMac, and iPads in 2020', 0.76384985)\n",
      "('Apple may also lauch new HomePod, iMac, and iPads in 2020', 0.76384985)\n",
      "('Apple 2020 iPhone SE might launch today, likely to come in three colour options', 0.7634544)\n",
      "('Apple iPhone 9 to launch on April 15: Report', 0.76072097)\n",
      "('Apple supposedly pencils in April 15 launch for iPhone 9', 0.7606628)\n",
      "(\"Apple 'scrambling' to avoid iPhone launch delay | BGR India\", 0.7604846)\n",
      "('Apple on schedule to release 2020 5G iPhone line in fall, claims Bloomberg', 0.7601613)\n",
      "('Apple on schedule to release 2020 5G iPhone line in fall, claims Bloomberg', 0.7601613)\n",
      "('Bloomberg: iPhone 12 in the fall, but future Apple products may be delayed', 0.75973266)\n",
      "('Bloomberg: iPhone 12 in the fall, but future Apple products may be delayed', 0.75973266)\n",
      "('Bgr | Apple planning to release new HomePod, iMac, and cheaper iPads in 2020', 0.7592177)\n",
      "('Apple planning to release new HomePod, iMac, and cheaper iPads in 2020', 0.7592177)\n",
      "('Apple will release a new iOS 14 and new headphones in the this fall', 0.7576188)\n",
      "('This new Apple device may launch soon', 0.7554065)\n",
      "('Foxconn posted a $1.58B profit in Q4 2019, down 24% YoY; sources say the 5G iPhone will launch in the fall, but future Apple products may be delayed (Debby Wu/Bloomberg)', 0.7546187)\n",
      "('Apple Rumored to be Launching the iPhone 9 This Friday!', 0.75394344)\n",
      "('Apple may launch AirTags, premium headphones, and more at WWDC 2020', 0.7535352)\n",
      "('Apple iPhone 12 delay could mean 2020 is first year with no new iPhone', 0.75352824)\n",
      "('Android Authority | This week in Apple: Budget iPhone landing soon, Apple Watch to sport Touch ID', 0.75312155)\n",
      "('Apple may launch AirTags, new MacBook Pro at WWDC 2020', 0.75263846)\n",
      "('Foxconn says to expect 5G 2020 Apple iPhone models to be available for the holidays', 0.7500355)\n",
      "('Foxconn says to expect 5G 2020 Apple iPhone models to be available for the holidays', 0.7500355)\n",
      "('Apple may be about to launch a new, cheap iPhone SE, Business Insider -', 0.74962044)\n",
      "('iPad deal alert: the latest model Apple iPad gets an $80 price cut', 0.7467254)\n",
      "('iPad deal alert: the latest model Apple iPad gets an $80 price cut', 0.7467254)\n",
      "('iPad deal alert: the latest model Apple iPad gets an $80 price cut', 0.7467254)\n",
      "('iPad deal alert: the latest model Apple iPad gets an $80 price cut', 0.7467254)\n",
      "('iPhone 9 to launch after OnePlus 8: Should you wait for this budget iPhone?', 0.7429156)\n",
      "('Apple is trying to prevent delays in iPhone 12 launch: report', 0.74217045)\n",
      "('iPhone 12 release date, leaks and what to expect from the new iPhones', 0.7418532)\n",
      "(\"'They get one shot': Why Apple probably won't launch its 5G iPhone on time\", 0.74123657)\n",
      "(\"'They get one shot': Why Apple probably won't launch its 5G iPhone on time\", 0.74123657)\n",
      "('Apple iPhone 9 might be announced on April 15, report says', 0.74099064)\n",
      "(\"'They get one shot': Why Apple probably won't launch its 5G iPhone on time: Tech\", 0.74084574)\n",
      "(\"'They get one shot': Why Apple probably won't launch its 5G iPhone on time: Tech\", 0.74084574)\n",
      "(\"'They get one shot': Why Apple probably won't launch its 5G iPhone on time: Tech\", 0.74084574)\n",
      "('Apple plans to release first beta of iOS 13.4.1 in near future', 0.7354459)\n",
      "('Apple plans to release first beta of iOS 13.4.1 in near future', 0.7354459)\n",
      "('Apple may have locked April 15 to launch iPhone 9 after an internal meeting', 0.7353002)\n",
      "('Foxconn claims that iPhone 12 could still launch in Fall 2020', 0.7347623)\n",
      "('Apple iPhone 9 will reportedly launch on 15 April, sale may kick off on 22 April', 0.7333)\n",
      "('Apple’s next budget phone will likely be called the iPhone SE… again', 0.73315305)\n",
      "(\"iOS 13.4.5 beta suggests iPhone 9 will support Apple's new CarKey feature\", 0.732789)\n",
      "('iOS 13.4.5 beta suggests iPhone 9 will support Apple’s new CarKey feature', 0.732789)\n",
      "(\"iOS 13.4.5 beta suggests iPhone 9 will support Apple's new CarKey feature\", 0.732789)\n",
      "('Apple’s 5G iPhone could still launch on time in 2020', 0.73227334)\n",
      "('Представлены реальные фото iPhone 12 (2 фото)', 0.7321249)\n",
      "('Apple iPhone SE 2020 price, release date, and specs', 0.73211586)\n",
      "('Apple iPhone SE 2020 price, release date, and specs', 0.73211586)\n",
      "('iPhone 9 might launch tomorrow, according to new rumor', 0.73194134)\n",
      "('iPhone 9 might launch tomorrow, according to new rumor', 0.73194134)\n"
     ]
    }
   ],
   "source": [
    "if __name__ == '__main__':\n",
    "    import json\n",
    "    json_data=open(\"C:/Users/hshah/OneDrive - Paycor, Inc/Documents/Anly 610/Anly610_Apple.json\").readlines()\n",
    "    str1='Apple is expected to launch a budget iPhone soon!'\n",
    "    feeds_read_from_file = []\n",
    "    for line in json_data:\n",
    "        feeds_read_from_file.append(json.loads(line))\n",
    "    my_list = []\n",
    "    for feed in feeds_read_from_file[:9999]:\n",
    "            output1=calc_similarity(str1,feed['title'],model_word2vec)\n",
    "            if output1 != None:\n",
    "                if feed['title']!=str1:\n",
    "                    my_list.append((feed['title'],output1)) #Adding to the result list \n",
    "    from operator import itemgetter, attrgetter       \n",
    "    my_list_sorted=sorted(my_list, key=itemgetter(1),reverse=True)  # Reversing the list      \n",
    "    for li in my_list_sorted[:100]:#Printing the top 100 results\n",
    "        print(li)"
   ]
  },
  {
   "cell_type": "code",
   "execution_count": null,
   "metadata": {},
   "outputs": [],
   "source": []
  },
  {
   "cell_type": "code",
   "execution_count": null,
   "metadata": {},
   "outputs": [],
   "source": []
  }
 ],
 "metadata": {
  "kernelspec": {
   "display_name": "Python 3",
   "language": "python",
   "name": "python3"
  },
  "language_info": {
   "codemirror_mode": {
    "name": "ipython",
    "version": 3
   },
   "file_extension": ".py",
   "mimetype": "text/x-python",
   "name": "python",
   "nbconvert_exporter": "python",
   "pygments_lexer": "ipython3",
   "version": "3.7.6"
  }
 },
 "nbformat": 4,
 "nbformat_minor": 4
}
